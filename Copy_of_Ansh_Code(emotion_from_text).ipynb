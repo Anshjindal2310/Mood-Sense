{
  "nbformat": 4,
  "nbformat_minor": 0,
  "metadata": {
    "colab": {
      "provenance": [],
      "toc_visible": true
    },
    "kernelspec": {
      "name": "python3",
      "display_name": "Python 3"
    },
    "language_info": {
      "name": "python"
    },
    "widgets": {
      "application/vnd.jupyter.widget-state+json": {
        "f29ff4ea2c384572942f2e1e7d76ff50": {
          "model_module": "@jupyter-widgets/controls",
          "model_name": "HTMLModel",
          "model_module_version": "1.5.0",
          "state": {
            "_dom_classes": [],
            "_model_module": "@jupyter-widgets/controls",
            "_model_module_version": "1.5.0",
            "_model_name": "HTMLModel",
            "_view_count": null,
            "_view_module": "@jupyter-widgets/controls",
            "_view_module_version": "1.5.0",
            "_view_name": "HTMLView",
            "description": "",
            "description_tooltip": null,
            "layout": "IPY_MODEL_e55eef13b31846d5a3d895c43629c7a7",
            "placeholder": "​",
            "style": "IPY_MODEL_c708231fd85c46519efe85e295502a8d",
            "value": "<h2>Emotion Detection</h2>"
          }
        },
        "e55eef13b31846d5a3d895c43629c7a7": {
          "model_module": "@jupyter-widgets/base",
          "model_name": "LayoutModel",
          "model_module_version": "1.2.0",
          "state": {
            "_model_module": "@jupyter-widgets/base",
            "_model_module_version": "1.2.0",
            "_model_name": "LayoutModel",
            "_view_count": null,
            "_view_module": "@jupyter-widgets/base",
            "_view_module_version": "1.2.0",
            "_view_name": "LayoutView",
            "align_content": null,
            "align_items": null,
            "align_self": null,
            "border": null,
            "bottom": null,
            "display": null,
            "flex": null,
            "flex_flow": null,
            "grid_area": null,
            "grid_auto_columns": null,
            "grid_auto_flow": null,
            "grid_auto_rows": null,
            "grid_column": null,
            "grid_gap": null,
            "grid_row": null,
            "grid_template_areas": null,
            "grid_template_columns": null,
            "grid_template_rows": null,
            "height": null,
            "justify_content": null,
            "justify_items": null,
            "left": null,
            "margin": null,
            "max_height": null,
            "max_width": null,
            "min_height": null,
            "min_width": null,
            "object_fit": null,
            "object_position": null,
            "order": null,
            "overflow": null,
            "overflow_x": null,
            "overflow_y": null,
            "padding": null,
            "right": null,
            "top": null,
            "visibility": null,
            "width": null
          }
        },
        "c708231fd85c46519efe85e295502a8d": {
          "model_module": "@jupyter-widgets/controls",
          "model_name": "DescriptionStyleModel",
          "model_module_version": "1.5.0",
          "state": {
            "_model_module": "@jupyter-widgets/controls",
            "_model_module_version": "1.5.0",
            "_model_name": "DescriptionStyleModel",
            "_view_count": null,
            "_view_module": "@jupyter-widgets/base",
            "_view_module_version": "1.2.0",
            "_view_name": "StyleView",
            "description_width": ""
          }
        },
        "05eaed7b9f674b938f5f2eef6f1b7aa1": {
          "model_module": "@jupyter-widgets/controls",
          "model_name": "TextareaModel",
          "model_module_version": "1.5.0",
          "state": {
            "_dom_classes": [],
            "_model_module": "@jupyter-widgets/controls",
            "_model_module_version": "1.5.0",
            "_model_name": "TextareaModel",
            "_view_count": null,
            "_view_module": "@jupyter-widgets/controls",
            "_view_module_version": "1.5.0",
            "_view_name": "TextareaView",
            "continuous_update": true,
            "description": "Text:",
            "description_tooltip": null,
            "disabled": false,
            "layout": "IPY_MODEL_bd9e22c857074111b6e1157cf6cfb724",
            "placeholder": "Enter text to analyze...",
            "rows": 4,
            "style": "IPY_MODEL_6e7c7e12988c4ef4bded6b7e87648db6",
            "value": ""
          }
        },
        "bd9e22c857074111b6e1157cf6cfb724": {
          "model_module": "@jupyter-widgets/base",
          "model_name": "LayoutModel",
          "model_module_version": "1.2.0",
          "state": {
            "_model_module": "@jupyter-widgets/base",
            "_model_module_version": "1.2.0",
            "_model_name": "LayoutModel",
            "_view_count": null,
            "_view_module": "@jupyter-widgets/base",
            "_view_module_version": "1.2.0",
            "_view_name": "LayoutView",
            "align_content": null,
            "align_items": null,
            "align_self": null,
            "border": null,
            "bottom": null,
            "display": null,
            "flex": null,
            "flex_flow": null,
            "grid_area": null,
            "grid_auto_columns": null,
            "grid_auto_flow": null,
            "grid_auto_rows": null,
            "grid_column": null,
            "grid_gap": null,
            "grid_row": null,
            "grid_template_areas": null,
            "grid_template_columns": null,
            "grid_template_rows": null,
            "height": null,
            "justify_content": null,
            "justify_items": null,
            "left": null,
            "margin": null,
            "max_height": null,
            "max_width": null,
            "min_height": null,
            "min_width": null,
            "object_fit": null,
            "object_position": null,
            "order": null,
            "overflow": null,
            "overflow_x": null,
            "overflow_y": null,
            "padding": null,
            "right": null,
            "top": null,
            "visibility": null,
            "width": null
          }
        },
        "6e7c7e12988c4ef4bded6b7e87648db6": {
          "model_module": "@jupyter-widgets/controls",
          "model_name": "DescriptionStyleModel",
          "model_module_version": "1.5.0",
          "state": {
            "_model_module": "@jupyter-widgets/controls",
            "_model_module_version": "1.5.0",
            "_model_name": "DescriptionStyleModel",
            "_view_count": null,
            "_view_module": "@jupyter-widgets/base",
            "_view_module_version": "1.2.0",
            "_view_name": "StyleView",
            "description_width": "initial"
          }
        },
        "0d1096f35dfc4e81b138e31691e19327": {
          "model_module": "@jupyter-widgets/controls",
          "model_name": "ButtonModel",
          "model_module_version": "1.5.0",
          "state": {
            "_dom_classes": [],
            "_model_module": "@jupyter-widgets/controls",
            "_model_module_version": "1.5.0",
            "_model_name": "ButtonModel",
            "_view_count": null,
            "_view_module": "@jupyter-widgets/controls",
            "_view_module_version": "1.5.0",
            "_view_name": "ButtonView",
            "button_style": "primary",
            "description": "Analyze Emotion",
            "disabled": false,
            "icon": "",
            "layout": "IPY_MODEL_04078e5f8dad440db7f022175446c2f0",
            "style": "IPY_MODEL_4e6c6a79140f4e85b713ac71f0e25480",
            "tooltip": "Click to analyze emotions"
          }
        },
        "04078e5f8dad440db7f022175446c2f0": {
          "model_module": "@jupyter-widgets/base",
          "model_name": "LayoutModel",
          "model_module_version": "1.2.0",
          "state": {
            "_model_module": "@jupyter-widgets/base",
            "_model_module_version": "1.2.0",
            "_model_name": "LayoutModel",
            "_view_count": null,
            "_view_module": "@jupyter-widgets/base",
            "_view_module_version": "1.2.0",
            "_view_name": "LayoutView",
            "align_content": null,
            "align_items": null,
            "align_self": null,
            "border": null,
            "bottom": null,
            "display": null,
            "flex": null,
            "flex_flow": null,
            "grid_area": null,
            "grid_auto_columns": null,
            "grid_auto_flow": null,
            "grid_auto_rows": null,
            "grid_column": null,
            "grid_gap": null,
            "grid_row": null,
            "grid_template_areas": null,
            "grid_template_columns": null,
            "grid_template_rows": null,
            "height": null,
            "justify_content": null,
            "justify_items": null,
            "left": null,
            "margin": null,
            "max_height": null,
            "max_width": null,
            "min_height": null,
            "min_width": null,
            "object_fit": null,
            "object_position": null,
            "order": null,
            "overflow": null,
            "overflow_x": null,
            "overflow_y": null,
            "padding": null,
            "right": null,
            "top": null,
            "visibility": null,
            "width": null
          }
        },
        "4e6c6a79140f4e85b713ac71f0e25480": {
          "model_module": "@jupyter-widgets/controls",
          "model_name": "ButtonStyleModel",
          "model_module_version": "1.5.0",
          "state": {
            "_model_module": "@jupyter-widgets/controls",
            "_model_module_version": "1.5.0",
            "_model_name": "ButtonStyleModel",
            "_view_count": null,
            "_view_module": "@jupyter-widgets/base",
            "_view_module_version": "1.2.0",
            "_view_name": "StyleView",
            "button_color": null,
            "font_weight": ""
          }
        },
        "65989a346cd74c3e910cbafcc5bd319f": {
          "model_module": "@jupyter-widgets/controls",
          "model_name": "ButtonModel",
          "model_module_version": "1.5.0",
          "state": {
            "_dom_classes": [],
            "_model_module": "@jupyter-widgets/controls",
            "_model_module_version": "1.5.0",
            "_model_name": "ButtonModel",
            "_view_count": null,
            "_view_module": "@jupyter-widgets/controls",
            "_view_module_version": "1.5.0",
            "_view_name": "ButtonView",
            "button_style": "info",
            "description": "Show Recommendation",
            "disabled": false,
            "icon": "",
            "layout": "IPY_MODEL_9408039ce2594f30a0da810ab5898c7e",
            "style": "IPY_MODEL_f9f0d0aa179f4c028161f2f7f041d6fb",
            "tooltip": "Click to show recommendation"
          }
        },
        "9408039ce2594f30a0da810ab5898c7e": {
          "model_module": "@jupyter-widgets/base",
          "model_name": "LayoutModel",
          "model_module_version": "1.2.0",
          "state": {
            "_model_module": "@jupyter-widgets/base",
            "_model_module_version": "1.2.0",
            "_model_name": "LayoutModel",
            "_view_count": null,
            "_view_module": "@jupyter-widgets/base",
            "_view_module_version": "1.2.0",
            "_view_name": "LayoutView",
            "align_content": null,
            "align_items": null,
            "align_self": null,
            "border": null,
            "bottom": null,
            "display": null,
            "flex": null,
            "flex_flow": null,
            "grid_area": null,
            "grid_auto_columns": null,
            "grid_auto_flow": null,
            "grid_auto_rows": null,
            "grid_column": null,
            "grid_gap": null,
            "grid_row": null,
            "grid_template_areas": null,
            "grid_template_columns": null,
            "grid_template_rows": null,
            "height": null,
            "justify_content": null,
            "justify_items": null,
            "left": null,
            "margin": null,
            "max_height": null,
            "max_width": null,
            "min_height": null,
            "min_width": null,
            "object_fit": null,
            "object_position": null,
            "order": null,
            "overflow": null,
            "overflow_x": null,
            "overflow_y": null,
            "padding": null,
            "right": null,
            "top": null,
            "visibility": null,
            "width": null
          }
        },
        "f9f0d0aa179f4c028161f2f7f041d6fb": {
          "model_module": "@jupyter-widgets/controls",
          "model_name": "ButtonStyleModel",
          "model_module_version": "1.5.0",
          "state": {
            "_model_module": "@jupyter-widgets/controls",
            "_model_module_version": "1.5.0",
            "_model_name": "ButtonStyleModel",
            "_view_count": null,
            "_view_module": "@jupyter-widgets/base",
            "_view_module_version": "1.2.0",
            "_view_name": "StyleView",
            "button_color": null,
            "font_weight": ""
          }
        },
        "486e691e19e7476eb46b9a24ec30dc2c": {
          "model_module": "@jupyter-widgets/output",
          "model_name": "OutputModel",
          "model_module_version": "1.0.0",
          "state": {
            "_dom_classes": [],
            "_model_module": "@jupyter-widgets/output",
            "_model_module_version": "1.0.0",
            "_model_name": "OutputModel",
            "_view_count": null,
            "_view_module": "@jupyter-widgets/output",
            "_view_module_version": "1.0.0",
            "_view_name": "OutputView",
            "layout": "IPY_MODEL_d5e5bc4a84a9422e94603b305527324e",
            "msg_id": "",
            "outputs": []
          }
        },
        "d5e5bc4a84a9422e94603b305527324e": {
          "model_module": "@jupyter-widgets/base",
          "model_name": "LayoutModel",
          "model_module_version": "1.2.0",
          "state": {
            "_model_module": "@jupyter-widgets/base",
            "_model_module_version": "1.2.0",
            "_model_name": "LayoutModel",
            "_view_count": null,
            "_view_module": "@jupyter-widgets/base",
            "_view_module_version": "1.2.0",
            "_view_name": "LayoutView",
            "align_content": null,
            "align_items": null,
            "align_self": null,
            "border": null,
            "bottom": null,
            "display": null,
            "flex": null,
            "flex_flow": null,
            "grid_area": null,
            "grid_auto_columns": null,
            "grid_auto_flow": null,
            "grid_auto_rows": null,
            "grid_column": null,
            "grid_gap": null,
            "grid_row": null,
            "grid_template_areas": null,
            "grid_template_columns": null,
            "grid_template_rows": null,
            "height": null,
            "justify_content": null,
            "justify_items": null,
            "left": null,
            "margin": null,
            "max_height": null,
            "max_width": null,
            "min_height": null,
            "min_width": null,
            "object_fit": null,
            "object_position": null,
            "order": null,
            "overflow": null,
            "overflow_x": null,
            "overflow_y": null,
            "padding": null,
            "right": null,
            "top": null,
            "visibility": null,
            "width": null
          }
        }
      }
    }
  },
  "cells": [
    {
      "cell_type": "code",
      "execution_count": 1,
      "metadata": {
        "colab": {
          "base_uri": "https://localhost:8080/"
        },
        "id": "_z3sJeC3EDJh",
        "outputId": "6a01e1c4-9e1e-49d2-d323-942a3a09ca2e"
      },
      "outputs": [
        {
          "output_type": "stream",
          "name": "stdout",
          "text": [
            "Collecting NRCLex\n",
            "  Downloading NRCLex-4.0-py3-none-any.whl (4.4 kB)\n",
            "Requirement already satisfied: textblob in /usr/local/lib/python3.10/dist-packages (from NRCLex) (0.17.1)\n",
            "INFO: pip is looking at multiple versions of nrclex to determine which version is compatible with other requirements. This could take a while.\n",
            "  Downloading NRCLex-3.0.0.tar.gz (396 kB)\n",
            "\u001b[?25l     \u001b[90m━━━━━━━━━━━━━━━━━━━━━━━━━━━━━━━━━━━━━━━━\u001b[0m \u001b[32m0.0/396.4 kB\u001b[0m \u001b[31m?\u001b[0m eta \u001b[36m-:--:--\u001b[0m\r\u001b[2K     \u001b[91m━━━━━━━━━━\u001b[0m\u001b[90m╺\u001b[0m\u001b[90m━━━━━━━━━━━━━━━━━━━━━━━━━━━━━\u001b[0m \u001b[32m102.4/396.4 kB\u001b[0m \u001b[31m2.8 MB/s\u001b[0m eta \u001b[36m0:00:01\u001b[0m\r\u001b[2K     \u001b[90m━━━━━━━━━━━━━━━━━━━━━━━━━━━━━━━━━━━━━━━━\u001b[0m \u001b[32m396.4/396.4 kB\u001b[0m \u001b[31m5.8 MB/s\u001b[0m eta \u001b[36m0:00:00\u001b[0m\n",
            "\u001b[?25h  Preparing metadata (setup.py) ... \u001b[?25l\u001b[?25hdone\n",
            "Requirement already satisfied: nltk>=3.1 in /usr/local/lib/python3.10/dist-packages (from textblob->NRCLex) (3.8.1)\n",
            "Requirement already satisfied: click in /usr/local/lib/python3.10/dist-packages (from nltk>=3.1->textblob->NRCLex) (8.1.7)\n",
            "Requirement already satisfied: joblib in /usr/local/lib/python3.10/dist-packages (from nltk>=3.1->textblob->NRCLex) (1.4.2)\n",
            "Requirement already satisfied: regex>=2021.8.3 in /usr/local/lib/python3.10/dist-packages (from nltk>=3.1->textblob->NRCLex) (2023.12.25)\n",
            "Requirement already satisfied: tqdm in /usr/local/lib/python3.10/dist-packages (from nltk>=3.1->textblob->NRCLex) (4.66.4)\n",
            "Building wheels for collected packages: NRCLex\n",
            "  Building wheel for NRCLex (setup.py) ... \u001b[?25l\u001b[?25hdone\n",
            "  Created wheel for NRCLex: filename=NRCLex-3.0.0-py3-none-any.whl size=43309 sha256=62af28813b53173071ba4f1092735fa5a0931713f79eae67ee925012ebd4fedb\n",
            "  Stored in directory: /root/.cache/pip/wheels/d2/10/44/6abfb1234298806a145fd6bcaec8cbc712e88dd1cd6cb242fa\n",
            "Successfully built NRCLex\n",
            "Installing collected packages: NRCLex\n",
            "Successfully installed NRCLex-3.0.0\n"
          ]
        }
      ],
      "source": [
        "!pip install NRCLex"
      ]
    },
    {
      "cell_type": "code",
      "source": [
        "!pip install NRCLex --no-cache-dir"
      ],
      "metadata": {
        "colab": {
          "base_uri": "https://localhost:8080/"
        },
        "id": "7yhiOsMLETDM",
        "outputId": "0c29413d-c628-43d4-8f71-ff7fc05f9cf3"
      },
      "execution_count": 2,
      "outputs": [
        {
          "output_type": "stream",
          "name": "stdout",
          "text": [
            "Requirement already satisfied: NRCLex in /usr/local/lib/python3.10/dist-packages (3.0.0)\n",
            "Requirement already satisfied: textblob in /usr/local/lib/python3.10/dist-packages (from NRCLex) (0.17.1)\n",
            "Requirement already satisfied: nltk>=3.1 in /usr/local/lib/python3.10/dist-packages (from textblob->NRCLex) (3.8.1)\n",
            "Requirement already satisfied: click in /usr/local/lib/python3.10/dist-packages (from nltk>=3.1->textblob->NRCLex) (8.1.7)\n",
            "Requirement already satisfied: joblib in /usr/local/lib/python3.10/dist-packages (from nltk>=3.1->textblob->NRCLex) (1.4.2)\n",
            "Requirement already satisfied: regex>=2021.8.3 in /usr/local/lib/python3.10/dist-packages (from nltk>=3.1->textblob->NRCLex) (2023.12.25)\n",
            "Requirement already satisfied: tqdm in /usr/local/lib/python3.10/dist-packages (from nltk>=3.1->textblob->NRCLex) (4.66.4)\n"
          ]
        }
      ]
    },
    {
      "cell_type": "markdown",
      "source": [
        "#Backend"
      ],
      "metadata": {
        "id": "gP6aeSguINzR"
      }
    },
    {
      "cell_type": "code",
      "source": [
        "from nrclex import NRCLex\n",
        "import nltk\n",
        "\n",
        "# Make sure to download necessary NLTK resources\n",
        "nltk.download('punkt')\n",
        "\n",
        "# Function to detect emotions and return emotion scores\n",
        "def detect_emotions(text):\n",
        "    emotion_analyzer = NRCLex(text)\n",
        "    emotion_scores = emotion_analyzer.raw_emotion_scores\n",
        "    return emotion_scores\n",
        "\n",
        "# Function to recommend activities based on emotion scores\n",
        "def recommend_based_on_emotions(emotion_scores):\n",
        "    # Determine the dominant emotion by finding the one with the highest score\n",
        "    if not emotion_scores:\n",
        "        return \"No significant emotions detected.\"\n",
        "\n",
        "    dominant_emotion = max(emotion_scores, key=emotion_scores.get)\n",
        "\n",
        "    # Recommend activities based on the dominant emotion\n",
        "    recommendations = {\n",
        "        \"anger\": \"Take a moment to cool down. Try deep breathing exercises, meditation, or a quick walk to release tension.\",\n",
        "        \"fear\": \"Seek reassurance and engage in calming activities. Consider talking to someone you trust or practicing relaxation techniques.\",\n",
        "        \"joy\": \"Celebrate your happiness! Engage in activities that bring you joy, like listening to music, dancing, or spending time with friends.\",\n",
        "        \"sadness\": \"Take care of yourself. Consider writing in a journal, listening to soothing music, or engaging in gentle exercise.\",\n",
        "        \"surprise\": \"Embrace the unexpected! Try something new or explore a new hobby that excites you.\",\n",
        "        \"disgust\": \"Express your feelings creatively. You could try painting, writing, or cleaning up to feel better.\"\n",
        "    }\n",
        "\n",
        "    return recommendations.get(dominant_emotion, \"No specific recommendation for this emotion.\")\n",
        "\n",
        "# Example use case\n",
        "text = input(\"Enter text to detetct emotion\")\n",
        "emotion_scores = detect_emotions(text)\n",
        "\n",
        "print(\"Emotion scores:\", emotion_scores)\n",
        "recommended_action = recommend_based_on_emotions(emotion_scores)\n",
        "print(\"Recommended action:\", recommended_action)\n"
      ],
      "metadata": {
        "colab": {
          "base_uri": "https://localhost:8080/"
        },
        "id": "EcG2OQ9bEazm",
        "outputId": "74db2ec5-f6cb-4a20-9ec7-636374674b9a"
      },
      "execution_count": 3,
      "outputs": [
        {
          "output_type": "stream",
          "name": "stderr",
          "text": [
            "[nltk_data] Downloading package punkt to /root/nltk_data...\n",
            "[nltk_data]   Unzipping tokenizers/punkt.zip.\n"
          ]
        },
        {
          "output_type": "stream",
          "name": "stdout",
          "text": [
            "Enter text to detetct emotioni am sad\n",
            "Emotion scores: {}\n",
            "Recommended action: No significant emotions detected.\n"
          ]
        }
      ]
    },
    {
      "cell_type": "markdown",
      "source": [
        "#Frontend Using Ipywidgets"
      ],
      "metadata": {
        "id": "53BuYtvqISc-"
      }
    },
    {
      "cell_type": "code",
      "source": [
        "import ipywidgets as widgets\n",
        "from IPython.display import display, clear_output\n",
        "from nrclex import NRCLex\n",
        "import nltk\n",
        "\n",
        "# Ensure necessary NLTK resources are downloaded\n",
        "nltk.download('punkt')\n",
        "\n",
        "# Function to detect emotions and return emotion scores\n",
        "def detect_emotions(text):\n",
        "    emotion_analyzer = NRCLex(text)\n",
        "    emotion_scores = emotion_analyzer.raw_emotion_scores\n",
        "    return emotion_scores\n",
        "\n",
        "# Function to recommend activities based on emotion scores\n",
        "def recommend_based_on_emotions(emotion_scores):\n",
        "    # Determine the dominant emotion by finding the one with the highest score\n",
        "    if not emotion_scores:\n",
        "        return \"No significant emotions detected.\"\n",
        "\n",
        "    dominant_emotion = max(emotion_scores, key=emotion_scores.get)\n",
        "\n",
        "    recommendations = {\n",
        "        \"anger\": \"Consider mindfulness or a walk to release tension.\",\n",
        "        \"fear\": \"Talk to someone or try relaxation techniques.\",\n",
        "        \"joy\": \"Celebrate with activities you love.\",\n",
        "        \"sadness\": \"Journaling or listening to soothing music might help.\",\n",
        "        \"surprise\": \"Embrace the unexpected and try something new.\",\n",
        "        \"disgust\": \"Channel emotions into creative expression.\"\n",
        "    }\n",
        "\n",
        "    return recommendations.get(dominant_emotion, \"No specific recommendation for this emotion.\")\n",
        "\n",
        "# Create UI components\n",
        "title = widgets.HTML(\"<h2>Emotion Detection</h2>\")\n",
        "text_input = widgets.Textarea(\n",
        "    placeholder=\"Enter text to analyze...\",\n",
        "    description=\"Text:\",\n",
        "    style={'description_width': 'initial'},\n",
        "    rows=4\n",
        ")\n",
        "analyze_button = widgets.Button(\n",
        "    description=\"Analyze Emotion\",\n",
        "    button_style=\"primary\",\n",
        "    tooltip=\"Click to analyze emotions\"\n",
        ")\n",
        "recommend_button = widgets.Button(\n",
        "    description=\"Show Recommendation\",\n",
        "    button_style=\"info\",\n",
        "    tooltip=\"Click to show recommendation\"\n",
        ")\n",
        "output = widgets.Output()\n",
        "\n",
        "# Event handler for Analyze button\n",
        "def analyze_emotions(button):\n",
        "    with output:\n",
        "        clear_output()  # Clear previous output\n",
        "        text = text_input.value\n",
        "        if text.strip():\n",
        "            emotion_scores = detect_emotions(text)\n",
        "            print(\"Detected Emotions:\")\n",
        "            for emotion, score in emotion_scores.items():\n",
        "                print(f\"{emotion.capitalize()}: {score:.2f}\")\n",
        "        else:\n",
        "            print(\"Please enter some text to analyze.\")\n",
        "\n",
        "# Event handler for Recommend button\n",
        "def show_recommendation(button):\n",
        "    with output:\n",
        "        clear_output()  # Clear previous output\n",
        "        text = text_input.value\n",
        "        if text.strip():\n",
        "            emotion_scores = detect_emotions(text)\n",
        "            recommended_action = recommend_based_on_emotions(emotion_scores)\n",
        "            print(\"Recommendation:\")\n",
        "            print(recommended_action)\n",
        "        else:\n",
        "            print(\"Please enter some text to get a recommendation.\")\n",
        "\n",
        "# Connect the event handlers to the buttons\n",
        "analyze_button.on_click(analyze_emotions)\n",
        "recommend_button.on_click(show_recommendation)\n",
        "\n",
        "# Display the UI components\n",
        "display(title, text_input, analyze_button, recommend_button, output)\n"
      ],
      "metadata": {
        "colab": {
          "base_uri": "https://localhost:8080/",
          "height": 247,
          "referenced_widgets": [
            "f29ff4ea2c384572942f2e1e7d76ff50",
            "e55eef13b31846d5a3d895c43629c7a7",
            "c708231fd85c46519efe85e295502a8d",
            "05eaed7b9f674b938f5f2eef6f1b7aa1",
            "bd9e22c857074111b6e1157cf6cfb724",
            "6e7c7e12988c4ef4bded6b7e87648db6",
            "0d1096f35dfc4e81b138e31691e19327",
            "04078e5f8dad440db7f022175446c2f0",
            "4e6c6a79140f4e85b713ac71f0e25480",
            "65989a346cd74c3e910cbafcc5bd319f",
            "9408039ce2594f30a0da810ab5898c7e",
            "f9f0d0aa179f4c028161f2f7f041d6fb",
            "486e691e19e7476eb46b9a24ec30dc2c",
            "d5e5bc4a84a9422e94603b305527324e"
          ]
        },
        "id": "3_jTr86nIR-x",
        "outputId": "da048511-953c-4e1c-a1ed-c7c0ae15ee79"
      },
      "execution_count": 4,
      "outputs": [
        {
          "output_type": "stream",
          "name": "stderr",
          "text": [
            "[nltk_data] Downloading package punkt to /root/nltk_data...\n",
            "[nltk_data]   Package punkt is already up-to-date!\n"
          ]
        },
        {
          "output_type": "display_data",
          "data": {
            "text/plain": [
              "HTML(value='<h2>Emotion Detection</h2>')"
            ],
            "application/vnd.jupyter.widget-view+json": {
              "version_major": 2,
              "version_minor": 0,
              "model_id": "f29ff4ea2c384572942f2e1e7d76ff50"
            }
          },
          "metadata": {}
        },
        {
          "output_type": "display_data",
          "data": {
            "text/plain": [
              "Textarea(value='', description='Text:', placeholder='Enter text to analyze...', rows=4, style=DescriptionStyle…"
            ],
            "application/vnd.jupyter.widget-view+json": {
              "version_major": 2,
              "version_minor": 0,
              "model_id": "05eaed7b9f674b938f5f2eef6f1b7aa1"
            }
          },
          "metadata": {}
        },
        {
          "output_type": "display_data",
          "data": {
            "text/plain": [
              "Button(button_style='primary', description='Analyze Emotion', style=ButtonStyle(), tooltip='Click to analyze e…"
            ],
            "application/vnd.jupyter.widget-view+json": {
              "version_major": 2,
              "version_minor": 0,
              "model_id": "0d1096f35dfc4e81b138e31691e19327"
            }
          },
          "metadata": {}
        },
        {
          "output_type": "display_data",
          "data": {
            "text/plain": [
              "Button(button_style='info', description='Show Recommendation', style=ButtonStyle(), tooltip='Click to show rec…"
            ],
            "application/vnd.jupyter.widget-view+json": {
              "version_major": 2,
              "version_minor": 0,
              "model_id": "65989a346cd74c3e910cbafcc5bd319f"
            }
          },
          "metadata": {}
        },
        {
          "output_type": "display_data",
          "data": {
            "text/plain": [
              "Output()"
            ],
            "application/vnd.jupyter.widget-view+json": {
              "version_major": 2,
              "version_minor": 0,
              "model_id": "486e691e19e7476eb46b9a24ec30dc2c"
            }
          },
          "metadata": {}
        }
      ]
    }
  ]
}